{
 "cells": [
  {
   "cell_type": "code",
   "execution_count": 1,
   "metadata": {},
   "outputs": [
    {
     "name": "stdout",
     "output_type": "stream",
     "text": [
      "environ({'ALLUSERSPROFILE': 'C:\\\\ProgramData', 'APPDATA': 'C:\\\\Users\\\\jhsu001\\\\AppData\\\\Roaming', 'APPLICATION_INSIGHTS_NO_DIAGNOSTIC_CHANNEL': '1', 'BRB': 'C:\\\\Program Files\\\\HP\\\\Sure Click\\\\bin', 'BRS': 'C:\\\\Program Files\\\\HP\\\\Sure Click\\\\servers', 'CHROME_CRASHPAD_PIPE_NAME': '\\\\\\\\.\\\\pipe\\\\crashpad_5076_NOLKEEYVUEACNJKE', 'COMMONPROGRAMFILES': 'C:\\\\Program Files\\\\Common Files', 'COMMONPROGRAMFILES(X86)': 'C:\\\\Program Files (x86)\\\\Common Files', 'COMMONPROGRAMW6432': 'C:\\\\Program Files\\\\Common Files', 'COMPUTERNAME': '2TK02111H1', 'COMSPEC': 'C:\\\\WINDOWS\\\\system32\\\\cmd.exe', 'CONDA_DEFAULT_ENV': 'base', 'CONDA_EXE': 'C:\\\\Users\\\\jhsu001\\\\Anaconda3\\\\condabin\\\\..\\\\Scripts\\\\conda.exe', 'CONDA_PREFIX': 'C:\\\\Users\\\\jhsu001\\\\Anaconda3', 'CONDA_PROMPT_MODIFIER': '(base) ', 'CONDA_PYTHON_EXE': 'C:\\\\Users\\\\jhsu001\\\\Anaconda3\\\\python.exe', 'CONDA_SHLVL': '1', 'DRIVERDATA': 'C:\\\\Windows\\\\System32\\\\Drivers\\\\DriverData', 'ELECTRON_RUN_AS_NODE': '1', 'FPS_BROWSER_APP_PROFILE_STRING': 'Internet Explorer', 'FPS_BROWSER_USER_PROFILE_STRING': 'Default', 'HOMEDRIVE': 'C:', 'HOMEPATH': '\\\\Users\\\\jhsu001', 'JPY_INTERRUPT_EVENT': '1572', 'LOCALAPPDATA': 'C:\\\\Users\\\\jhsu001\\\\AppData\\\\Local', 'LOGONSERVER': '\\\\\\\\2TK02111H1', 'NUMBER_OF_PROCESSORS': '8', 'ONEDRIVE': 'C:\\\\Users\\\\jhsu001\\\\OneDrive - Guidehouse', 'ONEDRIVECOMMERCIAL': 'C:\\\\Users\\\\jhsu001\\\\OneDrive - Guidehouse', 'ONLINESERVICES': 'Online Services', 'ORIGINAL_XDG_CURRENT_DESKTOP': 'undefined', 'OS': 'Windows_NT', 'PATH': 'c:\\\\Users\\\\jhsu001\\\\Anaconda3;C:\\\\Users\\\\jhsu001\\\\Anaconda3;C:\\\\Users\\\\jhsu001\\\\Anaconda3\\\\Library\\\\mingw-w64\\\\bin;C:\\\\Users\\\\jhsu001\\\\Anaconda3\\\\Library\\\\usr\\\\bin;C:\\\\Users\\\\jhsu001\\\\Anaconda3\\\\Library\\\\bin;C:\\\\Users\\\\jhsu001\\\\Anaconda3\\\\Scripts;C:\\\\Users\\\\jhsu001\\\\Anaconda3\\\\bin;C:\\\\Users\\\\jhsu001\\\\Anaconda3\\\\condabin;C:\\\\WINDOWS\\\\system32;C:\\\\WINDOWS;C:\\\\WINDOWS\\\\System32\\\\Wbem;C:\\\\WINDOWS\\\\System32\\\\WindowsPowerShell\\\\v1.0;C:\\\\WINDOWS\\\\System32\\\\OpenSSH;C:\\\\Program Files\\\\Microsoft SQL Server\\\\Client SDK\\\\ODBC\\\\170\\\\Tools\\\\Binn;C:\\\\Program Files (x86)\\\\Microsoft SQL Server\\\\150\\\\Tools\\\\Binn;C:\\\\Program Files\\\\Microsoft SQL Server\\\\150\\\\Tools\\\\Binn;C:\\\\Program Files\\\\Microsoft SQL Server\\\\150\\\\DTS\\\\Binn;C:\\\\Program Files\\\\Git\\\\cmd;C:\\\\Users\\\\jhsu001\\\\Anaconda3;C:\\\\Users\\\\jhsu001\\\\Anaconda3\\\\Library\\\\mingw-w64\\\\bin;C:\\\\Users\\\\jhsu001\\\\Anaconda3\\\\Library\\\\usr\\\\bin;C:\\\\Users\\\\jhsu001\\\\Anaconda3\\\\Library\\\\bin;C:\\\\Users\\\\jhsu001\\\\Anaconda3\\\\Scripts;C:\\\\Users\\\\jhsu001\\\\AppData\\\\Local\\\\Microsoft\\\\WindowsApps;C:\\\\Users\\\\jhsu001\\\\AppData\\\\Local\\\\GitHubDesktop\\\\bin;C:\\\\Users\\\\jhsu001\\\\AppData\\\\Local\\\\Programs\\\\Microsoft VS Code\\\\bin;.', 'PATHEXT': '.COM;.EXE;.BAT;.CMD;.VBS;.VBE;.JS;.JSE;.WSF;.WSH;.MSC', 'PLATFORMCODE': 'AN', 'PROCESSOR_ARCHITECTURE': 'AMD64', 'PROCESSOR_IDENTIFIER': 'Intel64 Family 6 Model 142 Stepping 12, GenuineIntel', 'PROCESSOR_LEVEL': '6', 'PROCESSOR_REVISION': '8e0c', 'PROGRAMDATA': 'C:\\\\ProgramData', 'PROGRAMFILES': 'C:\\\\Program Files', 'PROGRAMFILES(X86)': 'C:\\\\Program Files (x86)', 'PROGRAMW6432': 'C:\\\\Program Files', 'PROMPT': '(base) $P$G', 'PSMODULEPATH': 'C:\\\\Program Files\\\\WindowsPowerShell\\\\Modules;C:\\\\WINDOWS\\\\system32\\\\WindowsPowerShell\\\\v1.0\\\\Modules;C:\\\\Program Files (x86)\\\\Microsoft SQL Server\\\\150\\\\Tools\\\\PowerShell\\\\Modules\\\\;C:\\\\Program Files (x86)\\\\Microsoft Azure Information Protection\\\\Powershell', 'PTSMINSTALLPATH': 'c:\\\\Program Files\\\\HP\\\\HP ProtectTools Security Manager\\\\Bin\\\\', 'PTSMINSTALLPATH_X86': 'C:\\\\Program Files (x86)\\\\HP\\\\HP ProtectTools Security Manager\\\\Bin\\\\', 'PUBLIC': 'C:\\\\Users\\\\Public', 'PYTHONIOENCODING': 'utf-8', 'PYTHONNOUSERSITE': 'True', 'PYTHONUNBUFFERED': '1', 'REGIONCODE': 'NA', 'SESSIONNAME': 'Console', 'SYSTEMDRIVE': 'C:', 'SYSTEMROOT': 'C:\\\\WINDOWS', 'TEMP': 'C:\\\\Users\\\\jhsu001\\\\AppData\\\\Local\\\\Temp', 'TMP': 'C:\\\\Users\\\\jhsu001\\\\AppData\\\\Local\\\\Temp', 'USERDNSDOMAIN': 'localad.tech', 'USERDOMAIN': 'LOCALAD', 'USERDOMAIN_ROAMINGPROFILE': 'LOCALAD', 'USERNAME': 'jhsu001', 'USERPROFILE': 'C:\\\\Users\\\\jhsu001', 'VSCODE_AMD_ENTRYPOINT': 'vs/workbench/api/node/extensionHostProcess', 'VSCODE_CODE_CACHE_PATH': 'C:\\\\Users\\\\jhsu001\\\\AppData\\\\Roaming\\\\Code\\\\CachedData\\\\c3511e6c69bb39013c4a4b7b9566ec1ca73fc4d5', 'VSCODE_CWD': 'C:\\\\Users\\\\jhsu001\\\\AppData\\\\Local\\\\Programs\\\\Microsoft VS Code', 'VSCODE_HANDLES_UNCAUGHT_ERRORS': 'true', 'VSCODE_IPC_HOOK': '\\\\\\\\.\\\\pipe\\\\10ef4a9829c9cc8d3e18f72b4ebeea0e-1.67.2-main-sock', 'VSCODE_IPC_HOOK_EXTHOST': '\\\\\\\\.\\\\pipe\\\\vscode-ipc-4ce81a5c-e391-4970-82ea-93574820c8c8-sock', 'VSCODE_LOG_NATIVE': 'false', 'VSCODE_LOG_STACK': 'false', 'VSCODE_NLS_CONFIG': '{\"locale\":\"en-us\",\"availableLanguages\":{},\"_languagePackSupport\":true}', 'VSCODE_PID': '5076', 'VSCODE_PIPE_LOGGING': 'true', 'VSCODE_VERBOSE_LOGGING': 'true', 'WINDIR': 'C:\\\\WINDOWS', 'ZES_ENABLE_SYSMAN': '1', '__PSLOCKDOWNPOLICY': '0', 'TERM': 'xterm-color', 'CLICOLOR': '1', 'PAGER': 'cat', 'GIT_PAGER': 'cat', 'MPLBACKEND': 'module://ipykernel.pylab.backend_inline'})\n"
     ]
    }
   ],
   "source": [
    "import os\n",
    "print(os.environ)"
   ]
  },
  {
   "cell_type": "markdown",
   "metadata": {},
   "source": [
    "When the keyword does not exist:"
   ]
  },
  {
   "cell_type": "code",
   "execution_count": 2,
   "metadata": {},
   "outputs": [],
   "source": [
    "os.environ.get(\"USER\")"
   ]
  },
  {
   "cell_type": "markdown",
   "metadata": {},
   "source": [
    "When a keyword exists, it returns the value"
   ]
  },
  {
   "cell_type": "code",
   "execution_count": 3,
   "metadata": {},
   "outputs": [
    {
     "data": {
      "text/plain": [
       "'jhsu001'"
      ]
     },
     "execution_count": 3,
     "metadata": {},
     "output_type": "execute_result"
    }
   ],
   "source": [
    "os.environ.get(\"USERNAME\")"
   ]
  }
 ],
 "metadata": {
  "interpreter": {
   "hash": "5736397b3de88042aa4f034ab9b7145e5168dd3ddb735e8117c4754e0f5abbff"
  },
  "kernelspec": {
   "display_name": "Python 3.8.3 ('base')",
   "language": "python",
   "name": "python3"
  },
  "language_info": {
   "codemirror_mode": {
    "name": "ipython",
    "version": 3
   },
   "file_extension": ".py",
   "mimetype": "text/x-python",
   "name": "python",
   "nbconvert_exporter": "python",
   "pygments_lexer": "ipython3",
   "version": "3.8.3"
  },
  "orig_nbformat": 4
 },
 "nbformat": 4,
 "nbformat_minor": 2
}
